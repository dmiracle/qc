{
 "metadata": {
  "language_info": {
   "codemirror_mode": {
    "name": "ipython",
    "version": 3
   },
   "file_extension": ".py",
   "mimetype": "text/x-python",
   "name": "python",
   "nbconvert_exporter": "python",
   "pygments_lexer": "ipython3",
   "version": "3.8.6-final"
  },
  "orig_nbformat": 2,
  "kernelspec": {
   "name": "python3",
   "display_name": "Python 3.8.6 64-bit",
   "metadata": {
    "interpreter": {
     "hash": "4cd7ab41f5fca4b9b44701077e38c5ffd31fe66a6cab21e0214b68d958d0e462"
    }
   }
  }
 },
 "nbformat": 4,
 "nbformat_minor": 2,
 "cells": [
  {
   "source": [
    "# NC Chap 4"
   ],
   "cell_type": "markdown",
   "metadata": {}
  },
  {
   "source": [
    "## 2.11 (Eigendecomposition of the Pauli matrices)\n",
    "Find the eigenvectors, eigenvalies, and diagonal representations of the Pauli matrices. \n",
    "### Pauli matrices\n",
    "$$\n",
    "\\sigma_0 = I = \n",
    "\\begin{bmatrix}\n",
    "1 & 0 \\\\\n",
    "0 & 1\n",
    "\\end{bmatrix}\n",
    "$$\n",
    "$$\n",
    "\\sigma_1 = \\sigma_x = X = \n",
    "\\begin{bmatrix}\n",
    "0 & 1 \\\\\n",
    "1 & 0\n",
    "\\end{bmatrix}\n",
    "$$\n",
    "$$\n",
    "\\sigma_2 = \\sigma_y = Y = \n",
    "\\begin{bmatrix}\n",
    "0 & -i \\\\\n",
    "i & 0\n",
    "\\end{bmatrix}\n",
    "$$\n",
    "$$\n",
    "\\sigma_3 = \\sigma_z = Z = \n",
    "\\begin{bmatrix}\n",
    "1 & 0 \\\\\n",
    "0 & -1\n",
    "\\end{bmatrix}\n",
    "$$"
   ],
   "cell_type": "markdown",
   "metadata": {}
  },
  {
   "cell_type": "code",
   "execution_count": 28,
   "metadata": {},
   "outputs": [],
   "source": [
    "import numpy as np\n",
    "A = np.matrix([\n",
    "    ['a', 'b'],\n",
    "    ['c', 'd']\n",
    "])\n",
    "I = np.matrix([\n",
    "    [1, 0],\n",
    "    [0, 1]\n",
    "], dtype=complex)\n",
    "X = np.matrix([\n",
    "    [0, 1],\n",
    "    [1, 0]\n",
    "], dtype=complex)\n",
    "Y = np.matrix([\n",
    "    [0, -1j],\n",
    "    [1j, 0]\n",
    "], dtype=complex)\n",
    "Z = np.matrix([\n",
    "    [1, 0],\n",
    "    [0, -1]\n",
    "], dtype=complex)"
   ]
  },
  {
   "source": [
    "Diagonal representation:\n",
    "$$\n",
    "\\newcommand{\\ket}[1]{\\left|{#1}\\right\\rangle}\n",
    "\\newcommand{\\bra}[1]{\\left\\langle{#1}\\right|}\n",
    "A = \\sum_i \\lambda_i \\ket{i} \\bra{i}\n",
    "$$"
   ],
   "cell_type": "markdown",
   "metadata": {}
  },
  {
   "cell_type": "code",
   "execution_count": 35,
   "metadata": {},
   "outputs": [
    {
     "output_type": "execute_result",
     "data": {
      "text/plain": [
       "0.7071067811865475"
      ]
     },
     "metadata": {},
     "execution_count": 35
    }
   ],
   "source": [
    "import math\n",
    "1/math.sqrt(2)"
   ]
  },
  {
   "cell_type": "code",
   "execution_count": 29,
   "metadata": {},
   "outputs": [
    {
     "output_type": "stream",
     "name": "stdout",
     "text": [
      "[ 1.+0.j -1.+0.j]\n[[ 0.70710678-0.j  0.70710678+0.j]\n [ 0.70710678+0.j -0.70710678-0.j]]\n"
     ]
    }
   ],
   "source": [
    "eival_x, eivec_x = np.linalg.eig(X)\n",
    "print(eival_x)\n",
    "print(eivec_x)"
   ]
  },
  {
   "cell_type": "code",
   "execution_count": 36,
   "metadata": {},
   "outputs": [
    {
     "output_type": "execute_result",
     "data": {
      "text/plain": [
       "array([[ 1.+0.j,  0.+0.j],\n",
       "       [ 0.+0.j, -1.+0.j]])"
      ]
     },
     "metadata": {},
     "execution_count": 36
    }
   ],
   "source": [
    "eival_x[0] * np.outer(I[0], I[0]) + eival_x[1] * np.outer(I[1], I[1])"
   ]
  },
  {
   "cell_type": "code",
   "execution_count": 37,
   "metadata": {},
   "outputs": [],
   "source": [
    "def eigdecomp(M):\n",
    "    '''\n",
    "    2 x 2 eigendecomposition. \n",
    "    w, v, z = eigdecomp(M)\n",
    "    w: array of eigenvalues\n",
    "    v: matrix of eigenvectors. v[:,i] corresponds to w[i]\n",
    "    z: diagonal matrix rep\n",
    "    '''\n",
    "    I = np.matrix([[1, 0], [0, 1]], dtype=complex)\n",
    "    eival, eivec = np.linalg.eig(M)\n",
    "    diagonal = eival[0] * np.outer(I[0], I[0]) + eival[1] * np.outer(I[1], I[1])\n",
    "    return eival, eivec, diagonal\n"
   ]
  },
  {
   "cell_type": "code",
   "execution_count": 32,
   "metadata": {},
   "outputs": [
    {
     "output_type": "execute_result",
     "data": {
      "text/plain": [
       "(array([ 1.+0.j, -1.+0.j]),\n",
       " matrix([[-0.        -0.70710678j,  0.70710678+0.j        ],\n",
       "         [ 0.70710678+0.j        ,  0.        -0.70710678j]]),\n",
       " array([[ 1.+0.j,  0.+0.j],\n",
       "        [ 0.+0.j, -1.+0.j]]))"
      ]
     },
     "metadata": {},
     "execution_count": 32
    }
   ],
   "source": [
    "eigdecomp(Y)"
   ]
  },
  {
   "cell_type": "code",
   "execution_count": 33,
   "metadata": {},
   "outputs": [
    {
     "output_type": "execute_result",
     "data": {
      "text/plain": [
       "(array([ 1.+0.j, -1.+0.j]),\n",
       " matrix([[1.+0.j, 0.+0.j],\n",
       "         [0.+0.j, 1.+0.j]]),\n",
       " array([[ 1.+0.j,  0.+0.j],\n",
       "        [ 0.+0.j, -1.+0.j]]))"
      ]
     },
     "metadata": {},
     "execution_count": 33
    }
   ],
   "source": [
    "eigdecomp(Z)"
   ]
  },
  {
   "source": [
    "## 4.1\n",
    "Find the points on the bloch sphere wich correspond to the normalized eigenvectors of the different Pauli matrices."
   ],
   "cell_type": "markdown",
   "metadata": {}
  },
  {
   "source": [
    "### Bloch Sphere\n",
    "$$\n",
    "\\ket{\\psi} = \\cos \\frac{\\theta}{2} \\ket{0} + e^{i\\phi}\\sin \\frac{\\theta}{2} \\ket{1} \\\\\n",
    "\\ket{0} = \n",
    "\\begin{bmatrix}\n",
    "1 \\\\\n",
    "0\n",
    "\\end{bmatrix} \\\\\n",
    "\\ket{1} = \n",
    "\\begin{bmatrix}\n",
    "0 \\\\\n",
    "1\n",
    "\\end{bmatrix}\n",
    "$$"
   ],
   "cell_type": "markdown",
   "metadata": {}
  },
  {
   "cell_type": "code",
   "execution_count": 39,
   "metadata": {},
   "outputs": [
    {
     "output_type": "stream",
     "name": "stdout",
     "text": [
      "[[0.70710678-0.j]\n [0.70710678+0.j]]\n[[ 0.70710678+0.j]\n [-0.70710678-0.j]]\n"
     ]
    }
   ],
   "source": [
    "w, v = np.linalg.eig(X)\n",
    "for i in [0, 1]: print(v[:,i])"
   ]
  },
  {
   "cell_type": "code",
   "execution_count": null,
   "metadata": {},
   "outputs": [],
   "source": []
  }
 ]
}